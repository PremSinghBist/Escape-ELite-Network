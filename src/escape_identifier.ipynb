{
 "cells": [
  {
   "cell_type": "code",
   "execution_count": 4,
   "metadata": {},
   "outputs": [],
   "source": [
    "import Escape_Augmentation_Executer as esc"
   ]
  },
  {
   "cell_type": "code",
   "execution_count": 5,
   "metadata": {},
   "outputs": [],
   "source": [
    "import numpy as np \n",
    "import pandas as pd "
   ]
  },
  {
   "cell_type": "code",
   "execution_count": 11,
   "metadata": {},
   "outputs": [
    {
     "name": "stdout",
     "output_type": "stream",
     "text": [
      "Model: \"sequential\"\n",
      "_________________________________________________________________\n",
      "Layer (type)                 Output Shape              Param #   \n",
      "=================================================================\n",
      "batch_normalization (BatchNo (None, 512)               2048      \n",
      "_________________________________________________________________\n",
      "dense_6 (Dense)              (None, 1)                 513       \n",
      "=================================================================\n",
      "Total params: 2,561\n",
      "Trainable params: 1,537\n",
      "Non-trainable params: 1,024\n",
      "_________________________________________________________________\n",
      " Sig Len: 230997\n",
      "Model: \"model_12\"\n",
      "__________________________________________________________________________________________________\n",
      "Layer (type)                    Output Shape         Param #     Connected to                     \n",
      "==================================================================================================\n",
      "input_13 (InputLayer)           [(None, 22)]         0                                            \n",
      "__________________________________________________________________________________________________\n",
      "input_14 (InputLayer)           [(None, 22)]         0                                            \n",
      "__________________________________________________________________________________________________\n",
      "embedding_6 (Embedding)         (None, 22, 20)       560         input_13[0][0]                   \n",
      "                                                                 input_14[0][0]                   \n",
      "__________________________________________________________________________________________________\n",
      "lstm_12 (LSTM)                  (None, 22, 256)      283648      embedding_6[0][0]                \n",
      "                                                                 embedding_6[1][0]                \n",
      "__________________________________________________________________________________________________\n",
      "lstm_13 (LSTM)                  (None, 256)          525312      lstm_12[0][0]                    \n",
      "                                                                 lstm_12[1][0]                    \n",
      "__________________________________________________________________________________________________\n",
      "embed_layer (Concatenate)       (None, 512)          0           lstm_13[0][0]                    \n",
      "                                                                 lstm_13[1][0]                    \n",
      "__________________________________________________________________________________________________\n",
      "dense_6 (Dense)                 (None, 28)           14364       embed_layer[0][0]                \n",
      "__________________________________________________________________________________________________\n",
      "activation_6 (Activation)       (None, 28)           0           dense_6[0][0]                    \n",
      "==================================================================================================\n",
      "Total params: 823,884\n",
      "Trainable params: 823,884\n",
      "Non-trainable params: 0\n",
      "__________________________________________________________________________________________________\n",
      "2024-03-22 17:33:03.408376 | Embedding...\n",
      "211748/211748 [==============================] - 2800s 13ms/step\n",
      "2024-03-22 18:19:49.507728 | Done embedding.\n",
      "Shape of output previously:  (230997, 22, 512)\n",
      "Reduced feature Shape after average:  (230997, 512)\n",
      "Sig features shape: (230997, 512)\n",
      "nonsig: 4381\n",
      "Model: \"model_14\"\n",
      "__________________________________________________________________________________________________\n",
      "Layer (type)                    Output Shape         Param #     Connected to                     \n",
      "==================================================================================================\n",
      "input_15 (InputLayer)           [(None, 22)]         0                                            \n",
      "__________________________________________________________________________________________________\n",
      "input_16 (InputLayer)           [(None, 22)]         0                                            \n",
      "__________________________________________________________________________________________________\n",
      "embedding_7 (Embedding)         (None, 22, 20)       560         input_15[0][0]                   \n",
      "                                                                 input_16[0][0]                   \n",
      "__________________________________________________________________________________________________\n",
      "lstm_14 (LSTM)                  (None, 22, 256)      283648      embedding_7[0][0]                \n",
      "                                                                 embedding_7[1][0]                \n",
      "__________________________________________________________________________________________________\n",
      "lstm_15 (LSTM)                  (None, 256)          525312      lstm_14[0][0]                    \n",
      "                                                                 lstm_14[1][0]                    \n",
      "__________________________________________________________________________________________________\n",
      "embed_layer (Concatenate)       (None, 512)          0           lstm_15[0][0]                    \n",
      "                                                                 lstm_15[1][0]                    \n",
      "__________________________________________________________________________________________________\n",
      "dense_7 (Dense)                 (None, 28)           14364       embed_layer[0][0]                \n",
      "__________________________________________________________________________________________________\n",
      "activation_7 (Activation)       (None, 28)           0           dense_7[0][0]                    \n",
      "==================================================================================================\n",
      "Total params: 823,884\n",
      "Trainable params: 823,884\n",
      "Non-trainable params: 0\n",
      "__________________________________________________________________________________________________\n",
      "2024-03-22 18:20:01.982921 | Embedding...\n",
      "4016/4016 [==============================] - 52s 13ms/step\n",
      "2024-03-22 18:20:54.253820 | Done embedding.\n",
      "Shape of output previously:  (4381, 22, 512)\n",
      "Reduced feature Shape after average:  (4381, 512)\n",
      "Non Sig features shape: (4381, 512)\n"
     ]
    }
   ],
   "source": [
    "non_sig_feature_path = \"/home/perm/cov/sarsx/non-significantx.csv\"\n",
    "sig_feature_path= \"/home/perm/cov/sarsx/significantx.csv\"\n",
    "\n",
    "\n",
    "disc_model = esc.m.load_model(esc.DISCRIMINATOR_LEARNING_MODEL_PATH)\n",
    "disc_model.summary()\n",
    "\n",
    "\n",
    "sig = pd.read_csv(sig_feature_path)['sequence'].to_numpy()\n",
    "print(f' Sig Len: {len(sig)}')\n",
    "sig_features = esc.get_embed_features_based_on_sequences(sig)\n",
    "print('Sig features shape:', sig_features.shape)\n",
    "y_preds_sig = disc_model.predict(sig_features)\n",
    "\n",
    "non_sig = pd.read_csv(non_sig_feature_path)['sequence'].to_numpy()\n",
    "print(f'nonsig: {len(non_sig)}')\n",
    "non_sig_features = esc.get_embed_features_based_on_sequences(non_sig)\n",
    "print('Non Sig features shape:', non_sig_features.shape)\n",
    "\n",
    "y_preds_non_sig = disc_model.predict(non_sig_features)\n",
    "\n"
   ]
  },
  {
   "cell_type": "code",
   "execution_count": null,
   "metadata": {},
   "outputs": [],
   "source": []
  },
  {
   "cell_type": "code",
   "execution_count": 30,
   "metadata": {},
   "outputs": [
    {
     "name": "stdout",
     "output_type": "stream",
     "text": [
      "(4381,)\n"
     ]
    },
    {
     "data": {
      "text/plain": [
       "array([0.11961244, 0.34101233, 0.33030123, 0.11928555, 0.10005578],\n",
       "      dtype=float32)"
      ]
     },
     "execution_count": 30,
     "metadata": {},
     "output_type": "execute_result"
    }
   ],
   "source": [
    "non_sig_feature_with_score_path = \"/home/perm/cov/sarsx/non-significantx_with_score.csv\"\n",
    "sig_feature_path_with_score_path= \"/home/perm/cov/sarsx/significantx_with_score.csv\"\n",
    "\n",
    "y_preds_non_sig =y_preds_non_sig.flatten()\n",
    "print(y_preds_non_sig.shape)\n",
    "nonsig_df  = pd.DataFrame({'seqs': non_sig, 'scores': y_preds_non_sig })\n",
    "nonsig_df.to_csv(non_sig_feature_with_score_path, index=False)"
   ]
  },
  {
   "cell_type": "code",
   "execution_count": null,
   "metadata": {},
   "outputs": [],
   "source": []
  },
  {
   "cell_type": "code",
   "execution_count": 27,
   "metadata": {},
   "outputs": [
    {
     "name": "stdout",
     "output_type": "stream",
     "text": [
      "(230997,)\n"
     ]
    }
   ],
   "source": [
    "\n"
   ]
  },
  {
   "cell_type": "code",
   "execution_count": 26,
   "metadata": {},
   "outputs": [
    {
     "name": "stdout",
     "output_type": "stream",
     "text": [
      " Shape 131170 values: [0.6609372 0.6609372 0.6609372 0.6609372 0.6609372]\n"
     ]
    }
   ],
   "source": [
    "y_preds_sig = y_preds_sig.flatten()\n",
    "print(y_preds_sig.shape)\n",
    "a_sig_index = np.where(y_preds_sig>0.5) #Cutoff threshold for significant sequences\n",
    "a_sig = y_preds_sig[a_sig_index]\n",
    "print(f' Shape {len(a_sig)} values: {a_sig[0:5]}')\n",
    "df1_sig = pd.DataFrame({'sequence': a_sig, score:[]})\n"
   ]
  },
  {
   "cell_type": "code",
   "execution_count": 29,
   "metadata": {},
   "outputs": [
    {
     "name": "stdout",
     "output_type": "stream",
     "text": [
      " Shape 4147 values: [0.11961244 0.34101233 0.33030123 0.11928555 0.10005578]\n"
     ]
    }
   ],
   "source": [
    "non_sig_index = np.where(y_preds_non_sig<0.5) #Cutoff threshold for significant sequences\n",
    "\n",
    "a_non_sig = y_preds_non_sig[non_sig_index]\n",
    "print(f' Shape {len(a_non_sig)} values: {a_non_sig[0:5]}')"
   ]
  },
  {
   "cell_type": "code",
   "execution_count": null,
   "metadata": {},
   "outputs": [],
   "source": [
    "\n"
   ]
  }
 ],
 "metadata": {
  "kernelspec": {
   "display_name": "mutation-science-code",
   "language": "python",
   "name": "python3"
  },
  "language_info": {
   "codemirror_mode": {
    "name": "ipython",
    "version": 3
   },
   "file_extension": ".py",
   "mimetype": "text/x-python",
   "name": "python",
   "nbconvert_exporter": "python",
   "pygments_lexer": "ipython3",
   "version": "3.7.0"
  }
 },
 "nbformat": 4,
 "nbformat_minor": 2
}
