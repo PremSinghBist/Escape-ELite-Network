{
 "cells": [
  {
   "cell_type": "code",
   "execution_count": 59,
   "metadata": {},
   "outputs": [],
   "source": [
    "a_list = [-2, -3, 4, -1, -2, 1, 5, -3]"
   ]
  },
  {
   "cell_type": "code",
   "execution_count": 60,
   "metadata": {},
   "outputs": [
    {
     "data": {
      "text/plain": [
       "[-2]"
      ]
     },
     "execution_count": 60,
     "metadata": {},
     "output_type": "execute_result"
    }
   ],
   "source": [
    "#Create Subsequence \n",
    "sub_seq_list = []\n",
    "a_list[0:1]"
   ]
  },
  {
   "cell_type": "code",
   "execution_count": 61,
   "metadata": {},
   "outputs": [],
   "source": [
    "i = 0\n",
    "my_len = len(a_list) +1\n",
    "for num in a_list:\n",
    "    num_list = []\n",
    "    for j in range(my_len):\n",
    "        num_list = a_list[i:j+1]\n",
    "        sub_seq_list.append(num_list)\n",
    "      \n",
    "    my_len = my_len - 1  \n",
    "    i = i +1"
   ]
  },
  {
   "cell_type": "code",
   "execution_count": 62,
   "metadata": {},
   "outputs": [
    {
     "data": {
      "text/plain": [
       "[[-2],\n",
       " [-2, -3],\n",
       " [-2, -3, 4],\n",
       " [-2, -3, 4, -1],\n",
       " [-2, -3, 4, -1, -2],\n",
       " [-2, -3, 4, -1, -2, 1],\n",
       " [-2, -3, 4, -1, -2, 1, 5],\n",
       " [-2, -3, 4, -1, -2, 1, 5, -3],\n",
       " [-2, -3, 4, -1, -2, 1, 5, -3],\n",
       " [],\n",
       " [-3],\n",
       " [-3, 4],\n",
       " [-3, 4, -1],\n",
       " [-3, 4, -1, -2],\n",
       " [-3, 4, -1, -2, 1],\n",
       " [-3, 4, -1, -2, 1, 5],\n",
       " [-3, 4, -1, -2, 1, 5, -3],\n",
       " [],\n",
       " [],\n",
       " [4],\n",
       " [4, -1],\n",
       " [4, -1, -2],\n",
       " [4, -1, -2, 1],\n",
       " [4, -1, -2, 1, 5],\n",
       " [],\n",
       " [],\n",
       " [],\n",
       " [-1],\n",
       " [-1, -2],\n",
       " [-1, -2, 1],\n",
       " [],\n",
       " [],\n",
       " [],\n",
       " [],\n",
       " [-2],\n",
       " [],\n",
       " [],\n",
       " [],\n",
       " [],\n",
       " [],\n",
       " [],\n",
       " [],\n",
       " [],\n",
       " []]"
      ]
     },
     "execution_count": 62,
     "metadata": {},
     "output_type": "execute_result"
    }
   ],
   "source": [
    "sub_seq_list"
   ]
  },
  {
   "cell_type": "code",
   "execution_count": 63,
   "metadata": {},
   "outputs": [],
   "source": [
    "sum_arry = []\n",
    "for sub in sub_seq_list:\n",
    "    if len(sub) > 0:\n",
    "        sum_arry.append(sum(sub))\n"
   ]
  },
  {
   "cell_type": "code",
   "execution_count": 64,
   "metadata": {},
   "outputs": [
    {
     "name": "stdout",
     "output_type": "stream",
     "text": [
      "7\n"
     ]
    }
   ],
   "source": [
    "print(max(sum_arry))"
   ]
  },
  {
   "cell_type": "code",
   "execution_count": null,
   "metadata": {},
   "outputs": [],
   "source": []
  }
 ],
 "metadata": {
  "kernelspec": {
   "display_name": "mutation-science-code",
   "language": "python",
   "name": "python3"
  },
  "language_info": {
   "codemirror_mode": {
    "name": "ipython",
    "version": 3
   },
   "file_extension": ".py",
   "mimetype": "text/x-python",
   "name": "python",
   "nbconvert_exporter": "python",
   "pygments_lexer": "ipython3",
   "version": "3.7.0"
  },
  "orig_nbformat": 4
 },
 "nbformat": 4,
 "nbformat_minor": 2
}
