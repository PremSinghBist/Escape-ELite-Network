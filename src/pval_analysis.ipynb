{
 "cells": [
  {
   "cell_type": "code",
   "execution_count": 56,
   "metadata": {},
   "outputs": [],
   "source": [
    "import pandas as pd\n",
    "import numpy as np \n"
   ]
  },
  {
   "cell_type": "code",
   "execution_count": 64,
   "metadata": {},
   "outputs": [],
   "source": [
    "def compute_pvalue(path, data_type=''):\n",
    "    df = pd.read_csv(path)\n",
    "    sig_predicted = df[df['target']==1.0 ]['predicted'].to_list()\n",
    "    non_sig_predicted = df[df['target']==0.0 ]['predicted'].to_list()\n",
    "\n",
    "    print(f'Sig: {len(sig_predicted)}, Non sig: {len(non_sig_predicted)}')\n",
    "    scores = np.concatenate([sig_predicted, non_sig_predicted], axis=0)\n",
    "    labels = np.array([1]*len(sig_predicted) + [0]*len(non_sig_predicted))\n",
    "    #observed statitistics | mean difference : escape - nonescape \n",
    "    observed_diff = np.mean(sig_predicted) - np.mean(non_sig_predicted)\n",
    "    #Permutation test \n",
    "    n_permutations =  100000\n",
    "    permut_diff = np.zeros(n_permutations)\n",
    "    for i in range(n_permutations):\n",
    "        #generate random permuation for the label arrray, (it is suffling)\n",
    "        perm_labels = np.random.permutation(labels)  \n",
    "        \n",
    "        #rassing scores baed on permuated labels |    \n",
    "        #create a scenario where any structure in the data \n",
    "        #i.e., the difference between escape and non-escape sequences) is removed | null hyptothesis\n",
    "        perm_escape = scores[perm_labels == 1]\n",
    "        perm_non_escape = scores[perm_labels==0]\n",
    "        \n",
    "        #computer permutated difference \n",
    "        permut_diff[i] = np.mean(perm_escape) - np.mean(perm_non_escape)\n",
    "\n",
    "    #Calcuate P-Value for one-side P test \n",
    "    p_value = (np.sum(permut_diff >= observed_diff) + 1)/(n_permutations +1)\n",
    "    print(f'Permutation based one-sides P-Value: {p_value} for datatype: {data_type}')\n",
    "        \n"
   ]
  },
  {
   "cell_type": "code",
   "execution_count": 65,
   "metadata": {},
   "outputs": [
    {
     "name": "stdout",
     "output_type": "stream",
     "text": [
      "Sig: 362, Non sig: 4252\n",
      "Permutation based one-sides P-Value: 9.99990000099999e-06 for datatype: Greaney\n",
      "Sig: 38, Non sig: 44286\n",
      "Permutation based one-sides P-Value: 9.99990000099999e-06 for datatype: Baum\n",
      "Sig: 16000, Non sig: 72756\n",
      "Permutation based one-sides P-Value: 9.99990000099999e-06 for datatype: Validation\n"
     ]
    }
   ],
   "source": [
    "BASE = \"/home/perm/sars_escape_netv2/data/model_results_archive/M5/\"\n",
    "greaney_p = compute_pvalue(BASE+'greany_preds.csv', data_type='Greaney')\n",
    "baum_p = compute_pvalue(BASE+'baum_preds.csv', data_type='Baum')\n",
    "val_p = compute_pvalue(BASE+'val_preds.csv', data_type='Validation')"
   ]
  },
  {
   "cell_type": "code",
   "execution_count": 39,
   "metadata": {},
   "outputs": [],
   "source": [
    "\n"
   ]
  },
  {
   "cell_type": "code",
   "execution_count": 45,
   "metadata": {},
   "outputs": [
    {
     "name": "stdout",
     "output_type": "stream",
     "text": [
      "[0 1 1 0 1]\n"
     ]
    },
    {
     "data": {
      "text/plain": [
       "array([2, 3, 5])"
      ]
     },
     "execution_count": 45,
     "metadata": {},
     "output_type": "execute_result"
    }
   ],
   "source": [
    "scores = np.array([1, 2, 3, 4, 5])\n",
    "perm_labels = np.random.permutation([1,1,1,0, 0])\n",
    "print(perm_labels)\n",
    "scores[perm_labels == 1]"
   ]
  }
 ],
 "metadata": {
  "kernelspec": {
   "display_name": "escapenet2",
   "language": "python",
   "name": "python3"
  },
  "language_info": {
   "codemirror_mode": {
    "name": "ipython",
    "version": 3
   },
   "file_extension": ".py",
   "mimetype": "text/x-python",
   "name": "python",
   "nbconvert_exporter": "python",
   "pygments_lexer": "ipython3",
   "version": "3.7.0"
  }
 },
 "nbformat": 4,
 "nbformat_minor": 2
}
